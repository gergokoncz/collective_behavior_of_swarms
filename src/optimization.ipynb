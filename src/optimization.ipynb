{
 "metadata": {
  "language_info": {
   "codemirror_mode": {
    "name": "ipython",
    "version": 3
   },
   "file_extension": ".py",
   "mimetype": "text/x-python",
   "name": "python",
   "nbconvert_exporter": "python",
   "pygments_lexer": "ipython3",
   "version": "3.8.5-final"
  },
  "orig_nbformat": 2,
  "kernelspec": {
   "name": "python3",
   "display_name": "Python 3.8.5 64-bit",
   "metadata": {
    "interpreter": {
     "hash": "31f2aee4e71d21fbe5cf8b01ff0e069b9275f58929596ceb00d14d90e3e16cd6"
    }
   }
  }
 },
 "nbformat": 4,
 "nbformat_minor": 2,
 "cells": [
  {
   "cell_type": "code",
   "execution_count": 1,
   "metadata": {},
   "outputs": [],
   "source": [
    "import numpy as np\n",
    "\n",
    "import pyswarms as ps\n",
    "\n",
    "from simulation.BaseSimulation import *\n",
    "from simulation.PSimulation import *"
   ]
  },
  {
   "cell_type": "code",
   "execution_count": 5,
   "metadata": {},
   "outputs": [],
   "source": [
    "def callpsim(x):\n",
    "    result = np.zeros(x.shape[0])\n",
    "    \n",
    "    for i in range(x.shape[0]):\n",
    "        my_sim = ProbabilisticSimulation(field_size = (100, 100), n_bots = 10, p_resource = 0.03, resource_dist = (10, 3), p_leave_trail = x[i][0], p_follow_trail = x[i][1])\n",
    "        my_sim.init_resources()\n",
    "        my_sim.init_bots()\n",
    "        for _ in range(1_000):\n",
    "            my_sim.simulate_step()\n",
    "            \n",
    "        result[i] = -my_sim.stored_food\n",
    "    \n",
    "    return result"
   ]
  },
  {
   "cell_type": "code",
   "execution_count": 6,
   "metadata": {},
   "outputs": [],
   "source": [
    "options = {'c1': 0.5, 'c2': 0.5, 'w': 0.1}\n",
    "bounds = (np.zeros(2), np.ones(2))\n",
    "optimizer = ps.single.GlobalBestPSO(n_particles = 5, dimensions = 2, options=options, bounds=bounds)"
   ]
  },
  {
   "cell_type": "code",
   "execution_count": 7,
   "metadata": {
    "tags": []
   },
   "outputs": [
    {
     "output_type": "stream",
     "name": "stderr",
     "text": [
      "2021-03-21 19:59:13,201 - pyswarms.single.global_best - INFO - Optimize for 10 iters with {'c1': 0.5, 'c2': 0.5, 'w': 0.1}\n",
      "pyswarms.single.global_best: 100%|██████████|10/10, best_cost=-65\n",
      "2021-03-21 19:59:41,998 - pyswarms.single.global_best - INFO - Optimization finished | best cost: -65.0, best pos: [0.39785083 0.55077474]\n"
     ]
    }
   ],
   "source": [
    "s = optimizer.optimize(callpsim, iters=10)"
   ]
  },
  {
   "cell_type": "code",
   "execution_count": 8,
   "metadata": {},
   "outputs": [
    {
     "output_type": "execute_result",
     "data": {
      "text/plain": [
       "(-65.0, array([0.39785083, 0.55077474]))"
      ]
     },
     "metadata": {},
     "execution_count": 8
    }
   ],
   "source": [
    "s"
   ]
  },
  {
   "cell_type": "code",
   "execution_count": null,
   "metadata": {},
   "outputs": [],
   "source": []
  }
 ]
}