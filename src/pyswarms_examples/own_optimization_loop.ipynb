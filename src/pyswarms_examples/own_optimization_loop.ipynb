{
 "metadata": {
  "language_info": {
   "codemirror_mode": {
    "name": "ipython",
    "version": 3
   },
   "file_extension": ".py",
   "mimetype": "text/x-python",
   "name": "python",
   "nbconvert_exporter": "python",
   "pygments_lexer": "ipython3",
   "version": "3.8.5-final"
  },
  "orig_nbformat": 2,
  "kernelspec": {
   "name": "python3",
   "display_name": "Python 3",
   "language": "python"
  }
 },
 "nbformat": 4,
 "nbformat_minor": 2,
 "cells": [
  {
   "cell_type": "code",
   "execution_count": 1,
   "metadata": {},
   "outputs": [],
   "source": [
    "import numpy as np\n",
    "\n",
    "from pyswarms.utils.functions.single_obj import sphere as f\n",
    "\n",
    "import pyswarms.backend as P\n",
    "from pyswarms.backend.topology import Star\n",
    "\n",
    "%load_ext autoreload\n",
    "%autoreload 2"
   ]
  },
  {
   "cell_type": "code",
   "execution_count": 3,
   "metadata": {},
   "outputs": [
    {
     "output_type": "stream",
     "name": "stdout",
     "text": [
      "The following are the attributes of our swarm: dict_keys(['position', 'velocity', 'n_particles', 'dimensions', 'options', 'pbest_pos', 'best_pos', 'pbest_cost', 'best_cost', 'current_cost'])\n"
     ]
    }
   ],
   "source": [
    "my_topology = Star() # The Topology class\n",
    "my_options = {'c1': 0.6, 'c2': 0.3, 'w': 0.4} # arbitratily set\n",
    "my_swarm = P.create_swarm(n_particles=50, dimensions = 2, options = my_options) # the swarm class\n",
    "\n",
    "print(f\"The following are the attributes of our swarm: {my_swarm.__dict__.keys()}\")"
   ]
  },
  {
   "cell_type": "code",
   "execution_count": 8,
   "metadata": {},
   "outputs": [
    {
     "output_type": "stream",
     "name": "stdout",
     "text": [
      "Iteration: 1 | myswarm.best_cost: 0.0142\nIteration: 21 | myswarm.best_cost: 0.0142\nIteration: 41 | myswarm.best_cost: 0.0142\nIteration: 61 | myswarm.best_cost: 0.0142\nIteration: 81 | myswarm.best_cost: 0.0142\nIteration: 101 | myswarm.best_cost: 0.0142\nIteration: 121 | myswarm.best_cost: 0.0142\nIteration: 141 | myswarm.best_cost: 0.0142\nIteration: 161 | myswarm.best_cost: 0.0142\nIteration: 181 | myswarm.best_cost: 0.0142\nIteration: 201 | myswarm.best_cost: 0.0142\nIteration: 221 | myswarm.best_cost: 0.0142\nIteration: 241 | myswarm.best_cost: 0.0142\nIteration: 261 | myswarm.best_cost: 0.0142\nIteration: 281 | myswarm.best_cost: 0.0142\nIteration: 301 | myswarm.best_cost: 0.0142\nIteration: 321 | myswarm.best_cost: 0.0142\nIteration: 341 | myswarm.best_cost: 0.0142\nIteration: 361 | myswarm.best_cost: 0.0142\nIteration: 381 | myswarm.best_cost: 0.0142\nIteration: 401 | myswarm.best_cost: 0.0142\nIteration: 421 | myswarm.best_cost: 0.0142\nIteration: 441 | myswarm.best_cost: 0.0142\nIteration: 461 | myswarm.best_cost: 0.0142\nIteration: 481 | myswarm.best_cost: 0.0142\nIteration: 501 | myswarm.best_cost: 0.0142\nIteration: 521 | myswarm.best_cost: 0.0142\nIteration: 541 | myswarm.best_cost: 0.0142\nIteration: 561 | myswarm.best_cost: 0.0142\nIteration: 581 | myswarm.best_cost: 0.0142\nIteration: 601 | myswarm.best_cost: 0.0142\nIteration: 621 | myswarm.best_cost: 0.0142\nIteration: 641 | myswarm.best_cost: 0.0142\nIteration: 661 | myswarm.best_cost: 0.0142\nIteration: 681 | myswarm.best_cost: 0.0142\nIteration: 701 | myswarm.best_cost: 0.0142\nIteration: 721 | myswarm.best_cost: 0.0142\nIteration: 741 | myswarm.best_cost: 0.0142\nIteration: 761 | myswarm.best_cost: 0.0142\nIteration: 781 | myswarm.best_cost: 0.0142\nIteration: 801 | myswarm.best_cost: 0.0142\nIteration: 821 | myswarm.best_cost: 0.0142\nIteration: 841 | myswarm.best_cost: 0.0142\nIteration: 861 | myswarm.best_cost: 0.0142\nIteration: 881 | myswarm.best_cost: 0.0142\nIteration: 901 | myswarm.best_cost: 0.0142\nIteration: 921 | myswarm.best_cost: 0.0142\nIteration: 941 | myswarm.best_cost: 0.0142\nIteration: 961 | myswarm.best_cost: 0.0142\nIteration: 981 | myswarm.best_cost: 0.0142\nThe best cost found by our swarm is: 0.0142\nThe best position found by our swarm is: [0.10325164 0.05919279]\n"
     ]
    }
   ],
   "source": [
    "# own optimization loop\n",
    "iterations = 1000\n",
    "for i in range(iterations):\n",
    "    # part 1: update personal best\n",
    "    my_swarm.current_cost = f(my_swarm.position) # compute current cost\n",
    "    my_swarm.pbest_cost = f(my_swarm.pbest_pos) # compute personal best pos cost\n",
    "    my_swarm.pbest_pos, my_swarm.pbest_cost = P.compute_pbest(my_swarm) # update and store\n",
    "\n",
    "    # part 2: update global best\n",
    "    # note that gbest computation is dependent on topology\n",
    "    if np.min(my_swarm.pbest_cost) < my_swarm.best_cost:\n",
    "        my_swarm.best_pos, my_swarm.best_cost = my_topology.compute_gbest(my_swarm)\n",
    "\n",
    "    # lets print our output\n",
    "    if i%20==0:\n",
    "        print(f\"Iteration: {i + 1} | myswarm.best_cost: {my_swarm.best_cost:.4f}\")\n",
    "\n",
    "    # part 3: update position and velocity matrices\n",
    "    my_swarm.velocity = my_topology.compute_velocity(my_swarm)\n",
    "    my_swarm.position = my_topology.compute_position(my_swarm)\n",
    "\n",
    "print(f\"The best cost found by our swarm is: {my_swarm.best_cost:.4f}\")\n",
    "print(f\"The best position found by our swarm is: {my_swarm.best_pos}\")"
   ]
  },
  {
   "cell_type": "code",
   "execution_count": null,
   "metadata": {},
   "outputs": [],
   "source": []
  },
  {
   "cell_type": "code",
   "execution_count": null,
   "metadata": {},
   "outputs": [],
   "source": []
  }
 ]
}