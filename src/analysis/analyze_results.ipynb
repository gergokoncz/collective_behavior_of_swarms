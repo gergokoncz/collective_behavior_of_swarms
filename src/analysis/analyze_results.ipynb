{
 "metadata": {
  "language_info": {
   "codemirror_mode": {
    "name": "ipython",
    "version": 3
   },
   "file_extension": ".py",
   "mimetype": "text/x-python",
   "name": "python",
   "nbconvert_exporter": "python",
   "pygments_lexer": "ipython3",
   "version": "3.8.5-final"
  },
  "orig_nbformat": 2,
  "kernelspec": {
   "name": "python3",
   "display_name": "Python 3.8.5 64-bit",
   "metadata": {
    "interpreter": {
     "hash": "31f2aee4e71d21fbe5cf8b01ff0e069b9275f58929596ceb00d14d90e3e16cd6"
    }
   }
  }
 },
 "nbformat": 4,
 "nbformat_minor": 2,
 "cells": [
  {
   "cell_type": "code",
   "execution_count": 1,
   "metadata": {},
   "outputs": [],
   "source": [
    "import numpy as np\n",
    "import pandas as pd\n",
    "\n",
    "from pathlib import Path\n",
    "\n",
    "import matplotlib.pyplot as plt\n",
    "import seaborn as sns\n",
    "sns.set();\n",
    "\n",
    "path = Path.cwd().parent.parent.joinpath('results').joinpath('all_results.csv')"
   ]
  },
  {
   "cell_type": "code",
   "execution_count": 2,
   "metadata": {},
   "outputs": [
    {
     "output_type": "execute_result",
     "data": {
      "text/plain": [
       "  optim_alg  run  pso_steps  pso_n_particles  pso_iter_n  gen_pop_size  \\\n",
       "0       pso    2       5000               10          20           NaN   \n",
       "1       pso    2       5000               10          20           NaN   \n",
       "2       pso    2       5000               10          20           NaN   \n",
       "3       pso    2       5000               10          20           NaN   \n",
       "4       pso    2       5000               10          20           NaN   \n",
       "\n",
       "   gen_mutation_rate  gen_selection_rate  gen_selection_strategy  field_x  \\\n",
       "0                NaN                 NaN                     NaN      100   \n",
       "1                NaN                 NaN                     NaN      100   \n",
       "2                NaN                 NaN                     NaN      100   \n",
       "3                NaN                 NaN                     NaN      100   \n",
       "4                NaN                 NaN                     NaN      100   \n",
       "\n",
       "   field_y  n_bots  trail_decay  p_resource  resource_dist_mean  \\\n",
       "0      100      10          100        0.01                  10   \n",
       "1      100      10          100        0.01                  10   \n",
       "2      100      10          100        0.01                  10   \n",
       "3      100      10          100        0.01                  10   \n",
       "4      100      10          100        0.01                  10   \n",
       "\n",
       "   resource_dist_std   p_leave  p_follow  cost  is_selected  \n",
       "0                  3  0.452631  0.273623   283          NaN  \n",
       "1                  3  0.127068  0.728604   130          NaN  \n",
       "2                  3  0.960978  0.363459   258          NaN  \n",
       "3                  3  0.842896  0.280287   275          NaN  \n",
       "4                  3  0.682329  0.930724   306          NaN  "
      ],
      "text/html": "<div>\n<style scoped>\n    .dataframe tbody tr th:only-of-type {\n        vertical-align: middle;\n    }\n\n    .dataframe tbody tr th {\n        vertical-align: top;\n    }\n\n    .dataframe thead th {\n        text-align: right;\n    }\n</style>\n<table border=\"1\" class=\"dataframe\">\n  <thead>\n    <tr style=\"text-align: right;\">\n      <th></th>\n      <th>optim_alg</th>\n      <th>run</th>\n      <th>pso_steps</th>\n      <th>pso_n_particles</th>\n      <th>pso_iter_n</th>\n      <th>gen_pop_size</th>\n      <th>gen_mutation_rate</th>\n      <th>gen_selection_rate</th>\n      <th>gen_selection_strategy</th>\n      <th>field_x</th>\n      <th>field_y</th>\n      <th>n_bots</th>\n      <th>trail_decay</th>\n      <th>p_resource</th>\n      <th>resource_dist_mean</th>\n      <th>resource_dist_std</th>\n      <th>p_leave</th>\n      <th>p_follow</th>\n      <th>cost</th>\n      <th>is_selected</th>\n    </tr>\n  </thead>\n  <tbody>\n    <tr>\n      <th>0</th>\n      <td>pso</td>\n      <td>2</td>\n      <td>5000</td>\n      <td>10</td>\n      <td>20</td>\n      <td>NaN</td>\n      <td>NaN</td>\n      <td>NaN</td>\n      <td>NaN</td>\n      <td>100</td>\n      <td>100</td>\n      <td>10</td>\n      <td>100</td>\n      <td>0.01</td>\n      <td>10</td>\n      <td>3</td>\n      <td>0.452631</td>\n      <td>0.273623</td>\n      <td>283</td>\n      <td>NaN</td>\n    </tr>\n    <tr>\n      <th>1</th>\n      <td>pso</td>\n      <td>2</td>\n      <td>5000</td>\n      <td>10</td>\n      <td>20</td>\n      <td>NaN</td>\n      <td>NaN</td>\n      <td>NaN</td>\n      <td>NaN</td>\n      <td>100</td>\n      <td>100</td>\n      <td>10</td>\n      <td>100</td>\n      <td>0.01</td>\n      <td>10</td>\n      <td>3</td>\n      <td>0.127068</td>\n      <td>0.728604</td>\n      <td>130</td>\n      <td>NaN</td>\n    </tr>\n    <tr>\n      <th>2</th>\n      <td>pso</td>\n      <td>2</td>\n      <td>5000</td>\n      <td>10</td>\n      <td>20</td>\n      <td>NaN</td>\n      <td>NaN</td>\n      <td>NaN</td>\n      <td>NaN</td>\n      <td>100</td>\n      <td>100</td>\n      <td>10</td>\n      <td>100</td>\n      <td>0.01</td>\n      <td>10</td>\n      <td>3</td>\n      <td>0.960978</td>\n      <td>0.363459</td>\n      <td>258</td>\n      <td>NaN</td>\n    </tr>\n    <tr>\n      <th>3</th>\n      <td>pso</td>\n      <td>2</td>\n      <td>5000</td>\n      <td>10</td>\n      <td>20</td>\n      <td>NaN</td>\n      <td>NaN</td>\n      <td>NaN</td>\n      <td>NaN</td>\n      <td>100</td>\n      <td>100</td>\n      <td>10</td>\n      <td>100</td>\n      <td>0.01</td>\n      <td>10</td>\n      <td>3</td>\n      <td>0.842896</td>\n      <td>0.280287</td>\n      <td>275</td>\n      <td>NaN</td>\n    </tr>\n    <tr>\n      <th>4</th>\n      <td>pso</td>\n      <td>2</td>\n      <td>5000</td>\n      <td>10</td>\n      <td>20</td>\n      <td>NaN</td>\n      <td>NaN</td>\n      <td>NaN</td>\n      <td>NaN</td>\n      <td>100</td>\n      <td>100</td>\n      <td>10</td>\n      <td>100</td>\n      <td>0.01</td>\n      <td>10</td>\n      <td>3</td>\n      <td>0.682329</td>\n      <td>0.930724</td>\n      <td>306</td>\n      <td>NaN</td>\n    </tr>\n  </tbody>\n</table>\n</div>"
     },
     "metadata": {},
     "execution_count": 2
    }
   ],
   "source": [
    "results_df = pd.read_csv(path)\n",
    "results_df.head()"
   ]
  },
  {
   "cell_type": "code",
   "execution_count": 7,
   "metadata": {},
   "outputs": [
    {
     "output_type": "execute_result",
     "data": {
      "text/plain": [
       "(200, 20)"
      ]
     },
     "metadata": {},
     "execution_count": 7
    }
   ],
   "source": []
  },
  {
   "cell_type": "code",
   "execution_count": null,
   "metadata": {},
   "outputs": [],
   "source": []
  },
  {
   "cell_type": "code",
   "execution_count": null,
   "metadata": {},
   "outputs": [],
   "source": []
  }
 ]
}